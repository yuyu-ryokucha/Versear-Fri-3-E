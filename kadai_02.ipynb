{
  "cells": [
    {
      "cell_type": "markdown",
      "metadata": {
        "id": "E3ICMoPZL9W5"
      },
      "source": [
        "# コンピュータの言語2025: 課題２"
      ]
    },
    {
      "cell_type": "markdown",
      "metadata": {
        "id": "T5575SyRL9W6"
      },
      "source": [
        "## 1. はじめに\n",
        "\n",
        "[Google colaboratory](https://colab.google) や [jupyter notebook](https://jupyter.org) はプログラムを対話的に実行できる便利な環境です．今年度のコンピュータの言語では， Google colaboratory 環境を使って練習しながら python とプログラムの考え方に慣れていってもらいます．\n",
        "\n",
        "### セルの実行と編集\n",
        "\n",
        "notebook 環境のドキュメントは __セル(Cell)__ というまとまりから構成されています．セルには２種類あります．\n",
        "\n",
        "* __テキストセル__ : 説明や文章を書きます．ダブルクリックで編集することができ，__Shift+Enter__ (Shiftキーを押しながらEnterキーを押す） で確定されます．\n",
        "* __コードセル__ : プログラムを書いて実行します．クリックで編集することができ，__Shift+Enter__ でプログラムが実行されます．\n"
      ]
    },
    {
      "cell_type": "markdown",
      "metadata": {
        "id": "GxV_BKupL9W6"
      },
      "source": [
        "## 2. python を使った計算"
      ]
    },
    {
      "cell_type": "markdown",
      "metadata": {
        "id": "M42uxeN9L9W6"
      },
      "source": [
        "### 四則計算"
      ]
    },
    {
      "cell_type": "markdown",
      "metadata": {
        "id": "O7XMeUoxL9W7"
      },
      "source": [
        "いくつかの計算をして見ましょう．四則演算の記号は以下となります．\n",
        "* 足し算：```+```\n",
        "* 引き算：```-```\n",
        "* 掛け算：```*```\n",
        "* 割り算：```/```"
      ]
    },
    {
      "cell_type": "code",
      "execution_count": 1,
      "metadata": {
        "id": "lxySBu7vPVL_",
        "outputId": "f480c0f3-1431-4f09-d6f8-96ac82c8430e",
        "colab": {
          "base_uri": "https://localhost:8080/"
        }
      },
      "outputs": [
        {
          "output_type": "execute_result",
          "data": {
            "text/plain": [
              "2"
            ]
          },
          "metadata": {},
          "execution_count": 1
        }
      ],
      "source": [
        "1+1"
      ]
    },
    {
      "cell_type": "code",
      "execution_count": 2,
      "metadata": {
        "id": "oQ_CjkQOPVMH",
        "outputId": "338e46ac-f6b7-45e1-ac18-c5a86d17e45d",
        "colab": {
          "base_uri": "https://localhost:8080/"
        }
      },
      "outputs": [
        {
          "output_type": "execute_result",
          "data": {
            "text/plain": [
              "1"
            ]
          },
          "metadata": {},
          "execution_count": 2
        }
      ],
      "source": [
        "3-2"
      ]
    },
    {
      "cell_type": "code",
      "execution_count": 3,
      "metadata": {
        "id": "9WBDpkQ2PVMM",
        "outputId": "a0d0b4b7-58e2-4582-b404-7f772e4834d4",
        "colab": {
          "base_uri": "https://localhost:8080/"
        }
      },
      "outputs": [
        {
          "output_type": "execute_result",
          "data": {
            "text/plain": [
              "2.0"
            ]
          },
          "metadata": {},
          "execution_count": 3
        }
      ],
      "source": [
        "4/2"
      ]
    },
    {
      "cell_type": "code",
      "execution_count": 5,
      "metadata": {
        "id": "JAfCpLo8PVMQ",
        "outputId": "ed209fd9-497b-41f4-92f6-7f7d4056d033",
        "colab": {
          "base_uri": "https://localhost:8080/"
        }
      },
      "outputs": [
        {
          "output_type": "execute_result",
          "data": {
            "text/plain": [
              "6"
            ]
          },
          "metadata": {},
          "execution_count": 5
        }
      ],
      "source": [
        "2*3"
      ]
    },
    {
      "cell_type": "code",
      "execution_count": 4,
      "metadata": {
        "id": "OPMGfsHwPVMS",
        "outputId": "5efd41ee-7635-4016-ea37-cd8dcf3fe7db",
        "colab": {
          "base_uri": "https://localhost:8080/"
        }
      },
      "outputs": [
        {
          "output_type": "execute_result",
          "data": {
            "text/plain": [
              "6.0"
            ]
          },
          "metadata": {},
          "execution_count": 4
        }
      ],
      "source": [
        "2.0*3"
      ]
    },
    {
      "cell_type": "code",
      "execution_count": 6,
      "metadata": {
        "id": "czcq9a97PVMV",
        "outputId": "25459357-77c5-4f19-e8bc-bac221f2ec71",
        "colab": {
          "base_uri": "https://localhost:8080/"
        }
      },
      "outputs": [
        {
          "output_type": "execute_result",
          "data": {
            "text/plain": [
              "25"
            ]
          },
          "metadata": {},
          "execution_count": 6
        }
      ],
      "source": [
        "(10+3)*2-1"
      ]
    },
    {
      "cell_type": "markdown",
      "metadata": {
        "id": "-om5rl9SL9W9"
      },
      "source": [
        "### べき乗\n",
        "\n",
        "$2^3$ は　```**``` という記号を使って計算することができます．２の３乗は８ですね．"
      ]
    },
    {
      "cell_type": "code",
      "execution_count": 7,
      "metadata": {
        "id": "BKwhLmbaPVMY",
        "outputId": "2a31a0e4-b7d1-4f5d-da41-0283928f0cb5",
        "colab": {
          "base_uri": "https://localhost:8080/"
        }
      },
      "outputs": [
        {
          "output_type": "execute_result",
          "data": {
            "text/plain": [
              "8"
            ]
          },
          "metadata": {},
          "execution_count": 7
        }
      ],
      "source": [
        "2**3"
      ]
    },
    {
      "cell_type": "markdown",
      "metadata": {
        "id": "Gc1dXdGgPVMf"
      },
      "source": [
        "### 割り算の商と剰余\n",
        "割り算の```/``` は少数まで求めますが，整数だけ求めたいとき，つまり割り算の__商__は ```//```，割り算の__あまり（剰余）__は ```%``` という記号を使って計算することができます．例えば，10を3で割った時の商3と余り1 については以下のように求めることができます．"
      ]
    },
    {
      "cell_type": "code",
      "execution_count": 8,
      "metadata": {
        "id": "rDXH14OjPVMg",
        "outputId": "6a984105-10bd-4833-df3c-11da2ebf8978",
        "colab": {
          "base_uri": "https://localhost:8080/"
        }
      },
      "outputs": [
        {
          "output_type": "execute_result",
          "data": {
            "text/plain": [
              "3"
            ]
          },
          "metadata": {},
          "execution_count": 8
        }
      ],
      "source": [
        "10//3"
      ]
    },
    {
      "cell_type": "code",
      "execution_count": 9,
      "metadata": {
        "id": "aHL6ExqPPVM5",
        "outputId": "1093f094-f624-4d01-94f2-ab511e3a9f0a",
        "colab": {
          "base_uri": "https://localhost:8080/"
        }
      },
      "outputs": [
        {
          "output_type": "execute_result",
          "data": {
            "text/plain": [
              "1"
            ]
          },
          "metadata": {},
          "execution_count": 9
        }
      ],
      "source": [
        "10%3"
      ]
    },
    {
      "cell_type": "markdown",
      "metadata": {
        "id": "oviZr5FVPVM-"
      },
      "source": [
        "### コメント\n",
        "プログラムをするときには，コードの説明を入れることがよくあります．この説明のことを __[コメント](http://ja.wikipedia.org/wiki/コメント(コンピュータ)__ と言います．コメントはプログラムでは通常実行されません．\n",
        "\n",
        "Python ではコメント部分を示すのに ```#``` の記号を使い，```＃``` のある場所から行末までがコメントとなります．"
      ]
    },
    {
      "cell_type": "code",
      "execution_count": 10,
      "metadata": {
        "id": "ZB19hyAVPVNQ",
        "outputId": "d88ea48a-27ce-4ba1-c547-a51f4b97936d",
        "colab": {
          "base_uri": "https://localhost:8080/"
        }
      },
      "outputs": [
        {
          "output_type": "execute_result",
          "data": {
            "text/plain": [
              "1"
            ]
          },
          "metadata": {},
          "execution_count": 10
        }
      ],
      "source": [
        "10%3  # この部分は説明です．"
      ]
    },
    {
      "cell_type": "markdown",
      "metadata": {
        "id": "CbX2EtYxPVNX"
      },
      "source": [
        "### printによる出力\n",
        "ここまでの計算では，全て計算結果がすぐ下に出てきていましたが，複数の計算結果を出力したい場合には ```print``` 命令を使います．書式は\n",
        "\n",
        "```\n",
        "print(出力したいもの)\n",
        "```\n",
        "\n",
        "です．"
      ]
    },
    {
      "cell_type": "code",
      "execution_count": 11,
      "metadata": {
        "id": "m0_1xR46PVNX",
        "outputId": "14e477ff-4ece-41e8-a61a-9dfc1a6e10c0",
        "colab": {
          "base_uri": "https://localhost:8080/"
        }
      },
      "outputs": [
        {
          "output_type": "stream",
          "name": "stdout",
          "text": [
            "2\n",
            "6\n",
            "1+1を計算したら 2 になる\n"
          ]
        }
      ],
      "source": [
        "print(1+1)\n",
        "print(3+3)\n",
        "print(\"1+1を計算したら\", 1+1, \"になる\")"
      ]
    },
    {
      "cell_type": "markdown",
      "metadata": {
        "id": "uMZHil5YPVPA"
      },
      "source": [
        "### ビットとバイト\n",
        "\n",
        "前回の授業では __ビット(bit)__ と __バイト(byte)__ という単位について学習しました．\n",
        "\n",
        "それでは何ビットで何通りのことを表現できるかを調べてみましょう．そのためには，２のべき乗を計算すればよいことになります．$2^n$ は python では ```2**n``` で計算できますので，以下のようになります．"
      ]
    },
    {
      "cell_type": "code",
      "execution_count": 12,
      "metadata": {
        "id": "4u2DMH0UPVPB",
        "outputId": "bc797cbb-e863-4ed0-dadf-6a3217f7b7da",
        "colab": {
          "base_uri": "https://localhost:8080/"
        }
      },
      "outputs": [
        {
          "output_type": "stream",
          "name": "stdout",
          "text": [
            "2\n",
            "4\n",
            "8\n"
          ]
        }
      ],
      "source": [
        "print(2**1) # 1ビット\n",
        "print(2**2) # 2ビット\n",
        "print(2**3) # 3ビット"
      ]
    },
    {
      "cell_type": "markdown",
      "metadata": {
        "id": "ZMbrpFSNPVPD"
      },
      "source": [
        "次に何バイトで何通りのことを表現できるでしょうか？ 1バイトは8ビットですから，p バイトだと $8 \\times p$  ビットになりますので，"
      ]
    },
    {
      "cell_type": "code",
      "execution_count": 13,
      "metadata": {
        "id": "0Rsbn6orPVPE",
        "outputId": "094523cb-25ec-4614-8fa3-4fa82d69cc9f",
        "colab": {
          "base_uri": "https://localhost:8080/"
        }
      },
      "outputs": [
        {
          "output_type": "stream",
          "name": "stdout",
          "text": [
            "256\n",
            "65536\n",
            "16777216\n"
          ]
        }
      ],
      "source": [
        "print(2**(8))   #1バイト\n",
        "print(2**(8*2)) #2バイト\n",
        "print(2**(8*3)) #3バイト"
      ]
    },
    {
      "cell_type": "markdown",
      "metadata": {
        "id": "qx5f_gzbPVPH"
      },
      "source": [
        "バイト数が大きくなると急速に大きな数になっていることがわかりますね．"
      ]
    },
    {
      "cell_type": "markdown",
      "metadata": {
        "id": "iYrgxpI3L9XA"
      },
      "source": [
        "## 3. データ型(type)\n",
        "\n",
        "プログラムにはどんな言語にも様々なデータの型があります．Python には以下の型があります．\n",
        "\n",
        "* __数値型__\n",
        "\t* 整数 (__int__)\n",
        "\t* 浮動小数点（__float__）\n",
        "* __文字列型__ (__str__)\n",
        "* __真偽型__ (__bool__)\n",
        "\n",
        "そして，それらを複数集めて一緒に使うための型があります．\n",
        "\n",
        "* __リスト型__ (__list__)\n",
        "* __辞書型__ (__dict__)\n",
        "* __タプル型__ (__tuple__)\n",
        "\n",
        "今回は上の，数値型，文字列型，論理型について扱います．\n",
        "\n",
        "__以下では，例にある計算や式を下のセルに入力して実行してください__\n",
        "（キーボードで入力してキーボード入力に慣れるようにしてください）\n",
        "\n",
        "__プログラムの実行は，実行したい行（セル）を選択して shiftキーを押しながらenter(またはreturn) キーを押します．__"
      ]
    },
    {
      "cell_type": "markdown",
      "metadata": {
        "id": "zG7vH4quL9XA"
      },
      "source": [
        "### 数値型\n",
        "\n",
        "\n",
        "#### 整数\n",
        "```python\n",
        "1+1\n",
        "```"
      ]
    },
    {
      "cell_type": "code",
      "execution_count": 14,
      "metadata": {
        "id": "tuT9151QL9XA",
        "outputId": "080f5ead-6c63-4ca0-d827-f53399664153",
        "colab": {
          "base_uri": "https://localhost:8080/"
        }
      },
      "outputs": [
        {
          "output_type": "execute_result",
          "data": {
            "text/plain": [
              "2"
            ]
          },
          "metadata": {},
          "execution_count": 14
        }
      ],
      "source": [
        "1+1"
      ]
    },
    {
      "cell_type": "markdown",
      "metadata": {
        "id": "dFRV5UOEL9XA"
      },
      "source": [
        "#### 浮動小数点\n",
        "浮動小数点数であることを明示するためには ```.0``` をつけます．\n",
        "```python\n",
        "1.0+1.0\n",
        "```"
      ]
    },
    {
      "cell_type": "code",
      "execution_count": 15,
      "metadata": {
        "id": "cwQU40kxL9XA",
        "outputId": "5d5bda5e-79a8-447a-a53b-7332a9cb2b39",
        "colab": {
          "base_uri": "https://localhost:8080/"
        }
      },
      "outputs": [
        {
          "output_type": "execute_result",
          "data": {
            "text/plain": [
              "2.0"
            ]
          },
          "metadata": {},
          "execution_count": 15
        }
      ],
      "source": [
        "1.0+1.0"
      ]
    },
    {
      "cell_type": "markdown",
      "metadata": {
        "id": "xG5l5waAL9XA"
      },
      "source": [
        "整数と浮動小数点の数を一緒に計算すると，自動的に __型変換__ が行われて，結果は浮動小数点型になります．\n",
        "```python\n",
        "1+2.0\n",
        "```"
      ]
    },
    {
      "cell_type": "code",
      "execution_count": 16,
      "metadata": {
        "id": "_V681CElL9XA",
        "outputId": "b73028a5-092f-43f6-d6c8-19962942771a",
        "colab": {
          "base_uri": "https://localhost:8080/"
        }
      },
      "outputs": [
        {
          "output_type": "execute_result",
          "data": {
            "text/plain": [
              "3.0"
            ]
          },
          "metadata": {},
          "execution_count": 16
        }
      ],
      "source": [
        "1+2.0"
      ]
    },
    {
      "cell_type": "markdown",
      "metadata": {
        "id": "-u9cjfVOL9XB"
      },
      "source": [
        "### 文字列\n",
        "\n",
        "\" \" や '' の記号で囲まれた文字が ___文字列___ として扱われます．どちらの記号を使っても構いません．\n",
        "```python\n",
        "\"Hello\"\n",
        "```"
      ]
    },
    {
      "cell_type": "code",
      "execution_count": 17,
      "metadata": {
        "id": "Bt81iygYL9XB",
        "outputId": "197375b3-aa80-406f-b255-44d238a32034",
        "colab": {
          "base_uri": "https://localhost:8080/",
          "height": 36
        }
      },
      "outputs": [
        {
          "output_type": "execute_result",
          "data": {
            "text/plain": [
              "'Hello'"
            ],
            "application/vnd.google.colaboratory.intrinsic+json": {
              "type": "string"
            }
          },
          "metadata": {},
          "execution_count": 17
        }
      ],
      "source": [
        "\"Hello\""
      ]
    },
    {
      "cell_type": "markdown",
      "metadata": {
        "id": "gcR7oGUtL9XB"
      },
      "source": [
        "```python\n",
        "'Hello'\n",
        "```"
      ]
    },
    {
      "cell_type": "code",
      "execution_count": 18,
      "metadata": {
        "id": "_Zzl1OEnL9XB",
        "outputId": "a7e99a44-80bd-4ac6-8f14-815052c62126",
        "colab": {
          "base_uri": "https://localhost:8080/",
          "height": 36
        }
      },
      "outputs": [
        {
          "output_type": "execute_result",
          "data": {
            "text/plain": [
              "'Hello'"
            ],
            "application/vnd.google.colaboratory.intrinsic+json": {
              "type": "string"
            }
          },
          "metadata": {},
          "execution_count": 18
        }
      ],
      "source": [
        "'Hello'"
      ]
    },
    {
      "cell_type": "markdown",
      "metadata": {
        "id": "hvm95QeGL9XB"
      },
      "source": [
        "文字列型での足し算は，二つの文字列をくっつける操作になります．\n",
        "```python\n",
        "'Hello' + 'Python'\n",
        "```"
      ]
    },
    {
      "cell_type": "code",
      "execution_count": 19,
      "metadata": {
        "id": "gfAUS-RSL9XB",
        "outputId": "6f4ef49c-c10a-4a4f-c60c-b90f9d2c499b",
        "colab": {
          "base_uri": "https://localhost:8080/",
          "height": 36
        }
      },
      "outputs": [
        {
          "output_type": "execute_result",
          "data": {
            "text/plain": [
              "'HelloPython'"
            ],
            "application/vnd.google.colaboratory.intrinsic+json": {
              "type": "string"
            }
          },
          "metadata": {},
          "execution_count": 19
        }
      ],
      "source": [
        "'Hello' + 'Python'"
      ]
    },
    {
      "cell_type": "markdown",
      "metadata": {
        "id": "vC9RVRbyL9XB"
      },
      "source": [
        "数字も \"\" で囲まれると文字列として扱われます．例えば，数字の 1 と文字の 1 の足し算をするとエラーになります．\n",
        "```python\n",
        "1 + '1'\n",
        "```"
      ]
    },
    {
      "cell_type": "code",
      "execution_count": 20,
      "metadata": {
        "id": "ZjiCm40LL9XC",
        "outputId": "c32ae31c-e2f1-4f1c-991d-40d976f259af",
        "colab": {
          "base_uri": "https://localhost:8080/",
          "height": 149
        }
      },
      "outputs": [
        {
          "output_type": "error",
          "ename": "TypeError",
          "evalue": "unsupported operand type(s) for +: 'int' and 'str'",
          "traceback": [
            "\u001b[0;31m---------------------------------------------------------------------------\u001b[0m",
            "\u001b[0;31mTypeError\u001b[0m                                 Traceback (most recent call last)",
            "\u001b[0;32m/tmp/ipython-input-2877782753.py\u001b[0m in \u001b[0;36m<cell line: 0>\u001b[0;34m()\u001b[0m\n\u001b[0;32m----> 1\u001b[0;31m \u001b[0;36m1\u001b[0m \u001b[0;34m+\u001b[0m \u001b[0;34m'1'\u001b[0m\u001b[0;34m\u001b[0m\u001b[0;34m\u001b[0m\u001b[0m\n\u001b[0m",
            "\u001b[0;31mTypeError\u001b[0m: unsupported operand type(s) for +: 'int' and 'str'"
          ]
        }
      ],
      "source": [
        "1 + '1'"
      ]
    },
    {
      "cell_type": "markdown",
      "metadata": {
        "id": "qSm0zstZL9XC"
      },
      "source": [
        "上のエラー表示の ___TypeError___ は「型のエラー」ということですね．int（整数）と str（文字列）では足し算ができないと怒られます．"
      ]
    },
    {
      "cell_type": "markdown",
      "metadata": {
        "id": "FCKf8_V3L9XC"
      },
      "source": [
        "### 型の確認と変換"
      ]
    },
    {
      "cell_type": "markdown",
      "metadata": {
        "id": "qTPUXz8bL9XC"
      },
      "source": [
        "型(type)の確認は ```type()``` という関数で確かめることができます．以下のそれぞれの命令の結果を確かめてください．\n",
        "```python\n",
        "type(1), type(1.0), type('hello')\n",
        "```"
      ]
    },
    {
      "cell_type": "code",
      "execution_count": 21,
      "metadata": {
        "id": "f1lrSdLTL9XC",
        "outputId": "6040688d-67d7-4580-d957-67ab8e4326d2",
        "colab": {
          "base_uri": "https://localhost:8080/"
        }
      },
      "outputs": [
        {
          "output_type": "execute_result",
          "data": {
            "text/plain": [
              "int"
            ]
          },
          "metadata": {},
          "execution_count": 21
        }
      ],
      "source": [
        "type(1)"
      ]
    },
    {
      "cell_type": "code",
      "execution_count": 22,
      "metadata": {
        "id": "z9AZzuYKL9XC",
        "outputId": "99948fee-47ab-498f-b2e1-dde401e8d9a9",
        "colab": {
          "base_uri": "https://localhost:8080/"
        }
      },
      "outputs": [
        {
          "output_type": "execute_result",
          "data": {
            "text/plain": [
              "float"
            ]
          },
          "metadata": {},
          "execution_count": 22
        }
      ],
      "source": [
        "type(1.0)"
      ]
    },
    {
      "cell_type": "code",
      "execution_count": 23,
      "metadata": {
        "id": "wmEazsADL9XC",
        "outputId": "cb458990-7be0-45ea-d299-e9fb54e15f37",
        "colab": {
          "base_uri": "https://localhost:8080/"
        }
      },
      "outputs": [
        {
          "output_type": "execute_result",
          "data": {
            "text/plain": [
              "str"
            ]
          },
          "metadata": {},
          "execution_count": 23
        }
      ],
      "source": [
        "type('hello')"
      ]
    },
    {
      "cell_type": "markdown",
      "metadata": {
        "id": "YTMqLifTL9XC"
      },
      "source": [
        "異なる型どうしでも適切に型の変換をしてやることで演算をすることができます．型変換をする関数には ```int(), float(), str()``` があります．\n",
        "```python\n",
        "1 + int('1')   # '1' を整数型の1として扱ってほしい\n",
        "```"
      ]
    },
    {
      "cell_type": "code",
      "execution_count": 24,
      "metadata": {
        "id": "-PYZeEltL9XD",
        "outputId": "73112909-b78d-4eaa-9ee0-34c541e71c5f",
        "colab": {
          "base_uri": "https://localhost:8080/"
        }
      },
      "outputs": [
        {
          "output_type": "execute_result",
          "data": {
            "text/plain": [
              "2"
            ]
          },
          "metadata": {},
          "execution_count": 24
        }
      ],
      "source": [
        "1 + int('1')"
      ]
    },
    {
      "cell_type": "markdown",
      "metadata": {
        "id": "dlRG_QoPL9XD"
      },
      "source": [
        "```python\n",
        "str(1) + '2'   # 1 を 文字列型の'1' として扱ってほしい\n",
        "```"
      ]
    },
    {
      "cell_type": "code",
      "execution_count": 25,
      "metadata": {
        "id": "kI6X-hglL9XD",
        "outputId": "6a6b5e72-c956-4159-e25d-637b1d18a6e5",
        "colab": {
          "base_uri": "https://localhost:8080/",
          "height": 36
        }
      },
      "outputs": [
        {
          "output_type": "execute_result",
          "data": {
            "text/plain": [
              "'12'"
            ],
            "application/vnd.google.colaboratory.intrinsic+json": {
              "type": "string"
            }
          },
          "metadata": {},
          "execution_count": 25
        }
      ],
      "source": [
        "str(1) + '2'"
      ]
    },
    {
      "cell_type": "markdown",
      "metadata": {
        "id": "OvTtvzz4L9XD"
      },
      "source": [
        "### 真偽型\n",
        "\n",
        "論理型，ブール型とも言います．__真(True)__か__偽(False)__の２つの値だけを示す場合に使われます．以下では２つの数値を比較する演算子（__比較演算子__) の結果が真偽型で表示されている例です．\n",
        "```python\n",
        "3>1\n",
        "```"
      ]
    },
    {
      "cell_type": "code",
      "execution_count": 26,
      "metadata": {
        "id": "RVZaR4PsL9XD",
        "outputId": "48970783-7a93-4a8c-d143-02fa35ea5f87",
        "colab": {
          "base_uri": "https://localhost:8080/"
        }
      },
      "outputs": [
        {
          "output_type": "execute_result",
          "data": {
            "text/plain": [
              "True"
            ]
          },
          "metadata": {},
          "execution_count": 26
        }
      ],
      "source": [
        "3>1"
      ]
    },
    {
      "cell_type": "markdown",
      "metadata": {
        "id": "Rdzr6UxzL9XD"
      },
      "source": [
        "```python\n",
        "3<1\n",
        "```"
      ]
    },
    {
      "cell_type": "code",
      "execution_count": 27,
      "metadata": {
        "id": "LgCSVqlWL9XD",
        "outputId": "ee8bda71-8c7f-443c-bbb8-c150594dfe17",
        "colab": {
          "base_uri": "https://localhost:8080/"
        }
      },
      "outputs": [
        {
          "output_type": "execute_result",
          "data": {
            "text/plain": [
              "False"
            ]
          },
          "metadata": {},
          "execution_count": 27
        }
      ],
      "source": [
        "3<1\n"
      ]
    },
    {
      "cell_type": "markdown",
      "metadata": {
        "id": "bbSYdIlWL9XD"
      },
      "source": [
        "比較演算子には以下のようなものがあります．\n",
        "\n",
        "|演算子| 使用例 | 意味 |\n",
        "|------|--------|------|\n",
        "| == | a==b | a と b が等しければ True |\n",
        "| != | a!=b | a と b が違うなら True |\n",
        "| < | a<b | a が b 未満なら True |\n",
        "| <= | a<=b | a が b 以下なら True |\n",
        "| >= | a>=b | a が b 以上なら True |\n",
        "| > | a>b | aがbより大きいなら True |\n",
        "\n",
        "他の言語と異なり，２つの比較をつなげることができます．\n",
        "```python\n",
        "print( 1<2<3 )\n",
        "print( 2<3<1 )\n",
        "```"
      ]
    },
    {
      "cell_type": "code",
      "execution_count": null,
      "metadata": {
        "id": "6q6rU4AxL9XD"
      },
      "outputs": [],
      "source": [
        "\n"
      ]
    },
    {
      "cell_type": "markdown",
      "metadata": {
        "id": "ov4SQ7GAL9XE"
      },
      "source": [
        "## 論理演算\n",
        "\n",
        "論理型には ```and``` や ```or``` などの演算子があります．\n",
        "```python\n",
        "True and False\n",
        "```"
      ]
    },
    {
      "cell_type": "code",
      "execution_count": 28,
      "metadata": {
        "id": "dPKZUFPwL9XE",
        "outputId": "debede1c-afb2-4d96-aa25-f33d301e0359",
        "colab": {
          "base_uri": "https://localhost:8080/"
        }
      },
      "outputs": [
        {
          "output_type": "execute_result",
          "data": {
            "text/plain": [
              "False"
            ]
          },
          "metadata": {},
          "execution_count": 28
        }
      ],
      "source": [
        "True and False"
      ]
    },
    {
      "cell_type": "markdown",
      "metadata": {
        "id": "NP48rrMoL9XE"
      },
      "source": [
        "```python\n",
        "True or False\n",
        "```"
      ]
    },
    {
      "cell_type": "code",
      "execution_count": 29,
      "metadata": {
        "id": "oK7ZT4BcL9XE",
        "outputId": "2832a736-8781-42a3-e447-b9cdce503c9b",
        "colab": {
          "base_uri": "https://localhost:8080/"
        }
      },
      "outputs": [
        {
          "output_type": "execute_result",
          "data": {
            "text/plain": [
              "True"
            ]
          },
          "metadata": {},
          "execution_count": 29
        }
      ],
      "source": [
        "True or False"
      ]
    },
    {
      "cell_type": "markdown",
      "metadata": {
        "id": "KQDH0OmYL9XE"
      },
      "source": [
        "True と 1 False と 0 は同じものとして扱われます．\n",
        "```python\n",
        "True==1\n",
        "```"
      ]
    },
    {
      "cell_type": "code",
      "execution_count": 30,
      "metadata": {
        "id": "uqhOJBHcL9XE",
        "outputId": "b40dcd21-f2b6-4be3-bd31-46b81d4b3d51",
        "colab": {
          "base_uri": "https://localhost:8080/"
        }
      },
      "outputs": [
        {
          "output_type": "execute_result",
          "data": {
            "text/plain": [
              "True"
            ]
          },
          "metadata": {},
          "execution_count": 30
        }
      ],
      "source": [
        "True==1"
      ]
    },
    {
      "cell_type": "markdown",
      "metadata": {
        "id": "452SdEvGL9XF"
      },
      "source": [
        "```python\n",
        "False==0\n",
        "```"
      ]
    },
    {
      "cell_type": "code",
      "execution_count": 31,
      "metadata": {
        "id": "6b29dzFxL9XF",
        "outputId": "32cca859-020a-4301-bf5d-d28ee23aa0ff",
        "colab": {
          "base_uri": "https://localhost:8080/"
        }
      },
      "outputs": [
        {
          "output_type": "execute_result",
          "data": {
            "text/plain": [
              "True"
            ]
          },
          "metadata": {},
          "execution_count": 31
        }
      ],
      "source": [
        "False==0"
      ]
    },
    {
      "cell_type": "markdown",
      "metadata": {
        "id": "TANJpU1-L9XF"
      },
      "source": [
        "```not``` は否定です．\n",
        "```python\n",
        "print(not True)\n",
        "print(not False)\n",
        "```"
      ]
    },
    {
      "cell_type": "code",
      "execution_count": 32,
      "metadata": {
        "id": "XCRiRqJBL9XF",
        "outputId": "6b19f822-826a-4995-9b1d-c7ecbbd7aacb",
        "colab": {
          "base_uri": "https://localhost:8080/"
        }
      },
      "outputs": [
        {
          "output_type": "stream",
          "name": "stdout",
          "text": [
            "False\n",
            "True\n"
          ]
        }
      ],
      "source": [
        "print(not True)\n",
        "print(not False)\n"
      ]
    },
    {
      "cell_type": "markdown",
      "metadata": {
        "id": "hCXg5pM6L9XF"
      },
      "source": [
        "「6 は2で割り切れ，かつ3でも割り切れる」は真でしょうか偽でしょうか？\n",
        "\n",
        "「6が2で割り切れる」は 「6を2で割った余りが0である」ということですから，```6%2==0```　とかけます．\n",
        "\n",
        "「かつ」は ```and``` ですから以下のように書くことができます．\n",
        "\n",
        "```python\n",
        "(6%2==0) and (6%3==0)\n",
        "```"
      ]
    },
    {
      "cell_type": "code",
      "execution_count": 33,
      "metadata": {
        "id": "DQ6IXbwdL9XF",
        "outputId": "1ede976c-f81f-443b-dccd-8f7d87b207d9",
        "colab": {
          "base_uri": "https://localhost:8080/"
        }
      },
      "outputs": [
        {
          "output_type": "execute_result",
          "data": {
            "text/plain": [
              "True"
            ]
          },
          "metadata": {},
          "execution_count": 33
        }
      ],
      "source": [
        "(6%2==0) and (6%3==0)"
      ]
    },
    {
      "cell_type": "markdown",
      "metadata": {
        "id": "byOJAzciL9XF"
      },
      "source": [
        "## 4. 変数\n",
        "\n",
        "プログラムではデータをそのまま扱うことは稀で，ふつうデータに名前をつけて操作を行います．この名前のことを __変数__ といいます．\n",
        "\n",
        "Python では変数が何のデータ型なのかを指定せずに，すぐに定義することができます．\n",
        "\n",
        "```python\n",
        "x = 3      # 3 という数字を用意して，それに x という名前をつける\n",
        "print(x)   # x の中身を出力する\n",
        "```"
      ]
    },
    {
      "cell_type": "code",
      "execution_count": 34,
      "metadata": {
        "id": "Uz6vQSr-L9XG",
        "outputId": "ed22d3a4-65e5-46d7-b23e-98757594a0b7",
        "colab": {
          "base_uri": "https://localhost:8080/"
        }
      },
      "outputs": [
        {
          "output_type": "stream",
          "name": "stdout",
          "text": [
            "3\n"
          ]
        }
      ],
      "source": [
        "\n",
        "x = 3\n",
        "print(x)"
      ]
    },
    {
      "cell_type": "markdown",
      "metadata": {
        "id": "qKCL0nR5L9XG"
      },
      "source": [
        "変数を初めて宣言する時に，型を指定しなくてもよいのは，よい面もありますが，悪い面もあります．他の人のプログラムを見た時に，その変数がどのような型で使われているのかわからない時があるからです．そんな時は，```type``` 関数で型を調べることが助けになります．\n",
        "\n",
        "```python\n",
        "x = 3\n",
        "print(x)\n",
        "print(type(x))\n",
        "\n",
        "x = \"Hello\"\n",
        "print(x)\n",
        "print(type(x))\n",
        "```"
      ]
    },
    {
      "cell_type": "code",
      "execution_count": 35,
      "metadata": {
        "id": "8jdFKwufL9XG",
        "outputId": "90ffd25f-c085-4ed5-d0fa-9771a1eb2cc2",
        "colab": {
          "base_uri": "https://localhost:8080/"
        }
      },
      "outputs": [
        {
          "output_type": "stream",
          "name": "stdout",
          "text": [
            "3\n",
            "<class 'int'>\n"
          ]
        }
      ],
      "source": [
        "x=3\n",
        "print(x)\n",
        "print(type(x))"
      ]
    },
    {
      "cell_type": "code",
      "execution_count": 36,
      "metadata": {
        "id": "mhzQndvJL9XG",
        "outputId": "c31ed7c9-2cd7-4698-c4bd-dfcb246e7f71",
        "colab": {
          "base_uri": "https://localhost:8080/"
        }
      },
      "outputs": [
        {
          "output_type": "stream",
          "name": "stdout",
          "text": [
            "Hello\n",
            "<class 'str'>\n"
          ]
        }
      ],
      "source": [
        "x = \"Hello\"\n",
        "print(x)\n",
        "print(type(x))"
      ]
    },
    {
      "cell_type": "markdown",
      "metadata": {
        "id": "G359-q0cL9XG"
      },
      "source": [
        "## print"
      ]
    },
    {
      "cell_type": "markdown",
      "metadata": {
        "id": "sZ68oIyPL9XG"
      },
      "source": [
        "```print``` 命令で変数の値を出力するときに，変数の数値や文字を文の中に埋め込むとわかりやすい出力になります．\n",
        "\n",
        "\n",
        "そのためには，文字列型のformat というメソッドを使います．"
      ]
    },
    {
      "cell_type": "code",
      "execution_count": 37,
      "metadata": {
        "id": "j119CGPfL9XG",
        "outputId": "112bf921-16e9-4599-ca14-44f5316d059b",
        "colab": {
          "base_uri": "https://localhost:8080/"
        }
      },
      "outputs": [
        {
          "output_type": "stream",
          "name": "stdout",
          "text": [
            "xの値は3です\n"
          ]
        }
      ],
      "source": [
        "x=3\n",
        "print( \"xの値は{}です\".format(x) )"
      ]
    },
    {
      "cell_type": "code",
      "execution_count": 38,
      "metadata": {
        "id": "KWEx0AOwL9XG",
        "outputId": "b3852890-d9a2-4aa7-d8ac-a0d1fde83f0b",
        "colab": {
          "base_uri": "https://localhost:8080/"
        }
      },
      "outputs": [
        {
          "output_type": "stream",
          "name": "stdout",
          "text": [
            "「This is a pen.」の日本語訳は「これはペンです」です．\n"
          ]
        }
      ],
      "source": [
        "x=\"This is a pen.\"\n",
        "y=\"これはペンです\"\n",
        "print( \"「{}」の日本語訳は「{}」です．\".format(x,y) )"
      ]
    },
    {
      "cell_type": "markdown",
      "metadata": {
        "id": "IFsMD5UYL9XH"
      },
      "source": [
        "また，python3.6 からは __f文字列__ という表記でも，変数を文字列に埋め込むことができます．文字列の前に f を書き，{} の中に変数名を書きます．こちらの方が簡単ですね．"
      ]
    },
    {
      "cell_type": "code",
      "execution_count": 39,
      "metadata": {
        "id": "VPG1jJZpL9XH",
        "outputId": "4073ea3d-f0db-43c0-edd0-b06279a9de9c",
        "colab": {
          "base_uri": "https://localhost:8080/"
        }
      },
      "outputs": [
        {
          "output_type": "stream",
          "name": "stdout",
          "text": [
            "xの値は3です\n",
            "Good morning!の日本語訳はおはようです．\n"
          ]
        }
      ],
      "source": [
        "x = 3\n",
        "print( f'xの値は{x}です')\n",
        "x = 'Good morning!'\n",
        "y = 'おはよう'\n",
        "print( f'{x}の日本語訳は{y}です．' )"
      ]
    },
    {
      "cell_type": "markdown",
      "metadata": {
        "id": "hRhAcmfDL9XH"
      },
      "source": [
        "# 課題\n",
        "\n",
        "* 必ず実行結果を出力するようにしてください．\n",
        "\n",
        "__[1]__  文字列に対して * の演算子を使うと結果はどうなるでしょう．以下のプログラムの結果を下に書いて出力を調べてください．\n",
        "\n",
        "```python\n",
        "\"hello\"*6\n",
        "```"
      ]
    },
    {
      "cell_type": "code",
      "execution_count": 40,
      "metadata": {
        "problem": 1,
        "id": "F_hE2eeEL9XH",
        "outputId": "d746aaf5-720b-454d-9dd9-bda4fa21a99e",
        "colab": {
          "base_uri": "https://localhost:8080/",
          "height": 36
        }
      },
      "outputs": [
        {
          "output_type": "execute_result",
          "data": {
            "text/plain": [
              "'hellohellohellohellohellohello'"
            ],
            "application/vnd.google.colaboratory.intrinsic+json": {
              "type": "string"
            }
          },
          "metadata": {},
          "execution_count": 40
        }
      ],
      "source": [
        "\"hello\"*6"
      ]
    },
    {
      "cell_type": "markdown",
      "metadata": {
        "id": "dJek48WgL9XH"
      },
      "source": [
        "__[2]__ 250円の定規を4本、60円のクレヨンを8本を2割引で購入しました。消費税を10%として、支払い金額を求めるために、以下の式の XXXX, YYYY, ZZZZ の部分を編集して完成させてください。"
      ]
    },
    {
      "cell_type": "code",
      "execution_count": 42,
      "metadata": {
        "problem": 2,
        "id": "MLYnFPcwL9XH",
        "outputId": "bd9d58cd-df6e-46c9-f90b-c82ff39f780e",
        "colab": {
          "base_uri": "https://localhost:8080/"
        }
      },
      "outputs": [
        {
          "output_type": "stream",
          "name": "stdout",
          "text": [
            "1302.4\n"
          ]
        }
      ],
      "source": [
        "pay =  (250*4 + 60*8)*0.8*1.1\n",
        "print(pay)"
      ]
    },
    {
      "cell_type": "markdown",
      "metadata": {
        "id": "xjzU2dpYL9XI"
      },
      "source": [
        "__[3]__ 「xが0よりも大きい」かつ「xを5で割ったあまりが2よりも小さい」という条件にあえば True、合わなかったら False が出力されるように、以下のプログラムを完成させてください。"
      ]
    },
    {
      "cell_type": "code",
      "execution_count": 43,
      "metadata": {
        "problem": 3,
        "id": "cb8dwjstL9XI",
        "outputId": "a9f7a3fd-0598-4341-f532-ed812e22568c",
        "colab": {
          "base_uri": "https://localhost:8080/"
        }
      },
      "outputs": [
        {
          "output_type": "stream",
          "name": "stdout",
          "text": [
            "False\n"
          ]
        }
      ],
      "source": [
        "x = 7\n",
        "hantei = (x>0) and (x%5<2)\n",
        "print(hantei)"
      ]
    },
    {
      "cell_type": "markdown",
      "metadata": {
        "id": "xBprzM8vL9XI"
      },
      "source": [
        "__[4]__ y は100以下の数で3で割っても4で割っても割り切れる数であれば True, そうでなければ False を出力するように，以下のプログラムを完成してください．"
      ]
    },
    {
      "cell_type": "code",
      "execution_count": 44,
      "metadata": {
        "problem": 4,
        "id": "682soCyAL9XI",
        "outputId": "ceb7dccd-778a-45e3-c0e7-b0ae77c27fd0",
        "colab": {
          "base_uri": "https://localhost:8080/"
        }
      },
      "outputs": [
        {
          "output_type": "stream",
          "name": "stdout",
          "text": [
            "True\n"
          ]
        }
      ],
      "source": [
        "y = 24\n",
        "hantei =  (y%3==0) and (y%4==0)\n",
        "print(hantei)"
      ]
    },
    {
      "cell_type": "markdown",
      "metadata": {
        "id": "F0a-5km4L9XI"
      },
      "source": [
        "__[5]__ 以下のプログラムを改変して、「大谷翔平は2024年に..歳になります」と出力するように、以下の式の XXXX, YYYY, ZZZZ の部分を変数を使って書いてください。"
      ]
    },
    {
      "cell_type": "code",
      "execution_count": 45,
      "metadata": {
        "problem": 5,
        "tags": [],
        "id": "C4nydZYAL9XI",
        "outputId": "1d37a7b0-b07d-486a-d872-1be9ef763396",
        "colab": {
          "base_uri": "https://localhost:8080/"
        }
      },
      "outputs": [
        {
          "output_type": "stream",
          "name": "stdout",
          "text": [
            "大谷翔平は2024年に30歳になります\n"
          ]
        }
      ],
      "source": [
        "year_birth = 1994\n",
        "year_now   = 2024\n",
        "age = year_now-year_birth # year_birth と year_now を使った式で書いてください\n",
        "print(f\"大谷翔平は{year_now}年に{age}歳になります\")"
      ]
    },
    {
      "cell_type": "markdown",
      "metadata": {
        "id": "RjZJ70NNL9XI"
      },
      "source": [
        "__[6]__ 標高が100m高くなると、気温が0.6度下がると言われています．高槻キャンパスの標高は約200mです．ある日の大阪市（海抜0mとする）の気温が20度であるときの高槻キャンパスの気温は何度と計算できるでしょう．以下のプログラムの xxxx, yyyyyy を変更してプログラムを完成させてください．"
      ]
    },
    {
      "cell_type": "code",
      "execution_count": 46,
      "metadata": {
        "id": "NrTgnhooL9XI",
        "outputId": "cfe9d404-4553-4eb5-bcf1-b092a26d5317",
        "colab": {
          "base_uri": "https://localhost:8080/"
        }
      },
      "outputs": [
        {
          "output_type": "stream",
          "name": "stdout",
          "text": [
            "高槻キャンパスの気温は8.0です\n"
          ]
        }
      ],
      "source": [
        "altitude = 200       # 標高\n",
        "temp_0 = 0.06        # 標高0mでの気温\n",
        "\n",
        "temp_takatsuki = 20-altitude*temp_0\n",
        "print(f\"高槻キャンパスの気温は{temp_takatsuki}です\")"
      ]
    },
    {
      "cell_type": "markdown",
      "metadata": {
        "id": "LZQJiEsWL9XJ"
      },
      "source": [
        "# 課題の提出\n",
        "\n",
        "以下をダブルクリックして入力してください"
      ]
    },
    {
      "cell_type": "markdown",
      "metadata": {
        "id": "e_NhAp7KL9XJ"
      },
      "source": [
        "名前：稲村匠美"
      ]
    },
    {
      "cell_type": "markdown",
      "metadata": {
        "id": "HrvGX5B7L9XJ"
      },
      "source": [
        "学籍番号：情24-0040"
      ]
    },
    {
      "cell_type": "markdown",
      "metadata": {
        "id": "2cDWbxdzL9XJ"
      },
      "source": [
        "感想：自分としては割り算や、型変換についてあいまいなところがあったので、それの再確認ができたことがとてもよっかたです。内容はすごく基礎的のように感じていましたが、授業を聞いているうちにいろいろと実習でのことを思い出し、基礎の大切さも再確認しながら授業を受けていました。授業を受けながら、基礎をしっかりとマスターしつつ、pythonやjavaのコードについても触れて勉強していきたいです。"
      ]
    },
    {
      "cell_type": "markdown",
      "metadata": {
        "id": "WUmyEijfL9XJ"
      },
      "source": [
        "ファイルを保存したら，このファイルを「ダウンロード」ボタンからダウンロードし（左のファイルブラウザでファイルを選択して右クリックし，Downloadを選択してダウンロードすることもできます），関大LMSで提出してください．\n",
        "\n",
        "__注意：ダウンロードしたファイルは Word などのアプリケーションで中身を確認することはできません．中身を確認したい場合は Google Colab にファイルをアップロードして確認してください．__"
      ]
    },
    {
      "cell_type": "code",
      "execution_count": 46,
      "metadata": {
        "id": "M3swQt1IL9XJ"
      },
      "outputs": [],
      "source": []
    }
  ],
  "metadata": {
    "anaconda-cloud": {},
    "kernelspec": {
      "display_name": "Python 3 (ipykernel)",
      "language": "python",
      "name": "python3"
    },
    "language_info": {
      "codemirror_mode": {
        "name": "ipython",
        "version": 3
      },
      "file_extension": ".py",
      "mimetype": "text/x-python",
      "name": "python",
      "nbconvert_exporter": "python",
      "pygments_lexer": "ipython3",
      "version": "3.11.5"
    },
    "colab": {
      "provenance": []
    }
  },
  "nbformat": 4,
  "nbformat_minor": 0
}